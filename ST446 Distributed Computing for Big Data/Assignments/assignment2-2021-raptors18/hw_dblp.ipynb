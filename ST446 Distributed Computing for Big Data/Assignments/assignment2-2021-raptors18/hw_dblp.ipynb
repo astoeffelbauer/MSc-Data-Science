{
 "cells": [
  {
   "cell_type": "markdown",
   "metadata": {
    "id": "I2MAGZ2L7NJj"
   },
   "source": [
    "# ST446 Distributed Computing for Big Data\n",
    "## Assignment 2 - PART 3\n",
    "---\n",
    "\n",
    "## P3: Topic Modelling\n",
    "\n",
    "In this homework problem, you are asked to perform a semantic analysis of the DBLP author publications dataset `dblp/author_large.txt` that you have already encountered before. *You may use GCP or your own computer. Please document your steps. The necessary initialisation actions for `nltk` are provided as part of week 9's class material.*\n",
    " \n",
    "**P3.A (10 points)** Use Latent Dirichlet Allocation (LDA) to cluster publications by using words in their titles and represent each publication by 10 topics. Please follow these steps:\n",
    "\n",
    "**1.** Convert titles to tokens by:\n",
    "   * Tokenizing words in the title of each publication\n",
    "   * Removing stop words using the `nltk` package\n",
    "   * Removing puctuations, numbers or other symbols\n",
    "   * Lemmatizing tokens\n",
    "\n",
    "Note that you may skip some of these editing steps or add some additional steps to edit the tokens, but if you do this provide a justification for it.\n",
    "\n",
    "**2.** Convert tokens into sparse vectors\n",
    "\n",
    "**3.** Use LDA to find out 10 topics for each publication and represent each topic with the first few most relevant words. Note that you can choose to use different number of topics rather than 10. Again if you do so, please provide a justification.\n",
    "\n",
    "**4.** Comment the obtained results.\n",
    "\n",
    "**P3.B (15 points)** Address each question/step as in part A, with the following modifications:\n",
    "\n",
    "**1.** Each *document* representing all publication tiles of a specific author. For example, if an author $Y$ wrote \"introduction to databases\" and \"database design\", then the *document* for the author $Y$ will be \"introduction to database database design\". \n",
    "\n",
    "**2.** In addition, calculate the topic density vector for each author and use the topic density to calculate the cosine similarity for each pair of authors. For example, if the topic density for author X is $[x_1, x_2, x_3, \\dots]$ and topic density vector for author Y is $[y_1, y_2, y_3, \\dots]$, then the cosine similarity is $\\frac{x_1\\cdot y_1 + x_2\\cdot y_2 + x_3\\cdot y_3 +\\dots}{\\sqrt{x_1^2+ x_2^2+ x_3^2 +\\dots}\\sqrt{y_1^2+ y_2^2+ y_3^2 +\\dots}}$. \n",
    "\n",
    "**3.** Show the 10 most similar author pairs and comment on their similarity, if possible taking into consideration the results from the previous section."
   ]
  },
  {
   "cell_type": "markdown",
   "metadata": {
    "id": "EJa1YyUG7NJl"
   },
   "source": [
    "## 0. Load data"
   ]
  },
  {
   "cell_type": "markdown",
   "metadata": {},
   "source": [
    "#### Cluster configuration\n",
    "```shell\n",
    "gcloud beta dataproc clusters create mycluster-lda --project st446-lse-2021 \\\n",
    "    --bucket st446-mybucket --region europe-west2 \\\n",
    "    --master-machine-type n1-standard-4 --master-boot-disk-size 500 \\\n",
    "    --num-workers 2 --worker-machine-type n1-standard-4 --worker-boot-disk-size 250 \\\n",
    "    --image-version=1.4-debian10 \\\n",
    "    --optional-components=ANACONDA,JUPYTER \\\n",
    "    --enable-component-gateway \\\n",
    "    --initialization-actions \\\n",
    "    gs://goog-dataproc-initialization-actions-europe-west2/python/pip-install.sh,gs://st446-mybucket/my-actions.sh \\\n",
    "    --metadata 'PIP_PACKAGES=sklearn nltk pandas numpy'\n",
    "```\n",
    "\n",
    "\n",
    "#### Cluster shell commands\n",
    "```shell\n",
    "wget http://webdam.inria.fr/Jorge/files/author-large.txt\n",
    "gsutil cp author-large.txt gs://st446-mybucket/\n",
    "```"
   ]
  },
  {
   "cell_type": "code",
   "execution_count": 9,
   "metadata": {
    "id": "KfcsGHg_7NJm",
    "scrolled": true
   },
   "outputs": [],
   "source": [
    "import numpy as np\n",
    "\n",
    "# your code to adjust the path to your dataset author-large.txt\n",
    "author_rdd = sc.textFile('gs://st446-mybucket/author-large.txt', 4) \\\n",
    "                .map(lambda row: np.array(row.strip().split(\"\\t\")))"
   ]
  },
  {
   "cell_type": "code",
   "execution_count": 10,
   "metadata": {
    "id": "ZtDwN5BV7NJm"
   },
   "outputs": [],
   "source": [
    "# example - you can adjust for your case\n",
    "authors = author_rdd.map(lambda r: (r[0],1)).reduceByKey(lambda a,b: a+b)\n",
    "author_30 = set(authors.filter(lambda r: r[1] >= 30).map(lambda r: r[0]).collect())"
   ]
  },
  {
   "cell_type": "code",
   "execution_count": 11,
   "metadata": {
    "id": "V4jrVTZm7NJn",
    "outputId": "14604497-ec76-4419-d9e7-7edf51e417e3"
   },
   "outputs": [
    {
     "data": {
      "text/plain": [
       "[('Hector Garcia-Molina', 'Distributed Databases.'),\n",
       " ('Meichun Hsu', 'Distributed Databases.'),\n",
       " ('Nathan Goodman',\n",
       "  'An Object-Oriented DBMS War Story: Developing a Genome Mapping Database in C++.'),\n",
       " ('Gail E. Kaiser', 'Cooperative Transactions for Multiuser Environments.'),\n",
       " ('Guido Moerkotte', 'Physical Object Management.'),\n",
       " ('Won Kim', 'On Resolving Schematic Heterogeneity in Multidatabase Systems.'),\n",
       " ('Won Kim',\n",
       "  'Requirements for a Performance Benchmark for Object-Oriented Database Systems.'),\n",
       " ('Weiyi Meng', 'Query Processing in Multidatabase Systems.'),\n",
       " ('Clement T. Yu', 'Query Processing in Multidatabase Systems.'),\n",
       " ('Hanan Samet', 'Spatial Data Structures.')]"
      ]
     },
     "execution_count": 11,
     "metadata": {},
     "output_type": "execute_result"
    }
   ],
   "source": [
    "title_author = author_rdd.filter(lambda r: r[0] in author_30). \\\n",
    "                    map(lambda r: (r[0],r[2])).distinct()\n",
    "title_author.take(10)"
   ]
  },
  {
   "cell_type": "code",
   "execution_count": 4,
   "metadata": {
    "id": "97acIVei7NJo",
    "outputId": "aeecc32d-4371-4cde-9b13-0ec4079d9d01"
   },
   "outputs": [],
   "source": [
    "# print(author_rdd.count())\n",
    "# print(title_author.count())"
   ]
  },
  {
   "cell_type": "code",
   "execution_count": 12,
   "metadata": {},
   "outputs": [
    {
     "data": {
      "text/plain": [
       "['An Adaptive Limited Pointers Directory Scheme for Cache Coherence of Scalable Multiprocessors.',\n",
       " 'Real PRAM Programming.',\n",
       " 'Design of Multi-dimensional DCT Array Processors for Video Applications.',\n",
       " 'Topic Introduction.',\n",
       " 'Topic Introduction.',\n",
       " 'Topic Introduction.',\n",
       " 'Efficient Total-Exchange in Wormhole-Routed Toroidal Cubes.',\n",
       " 'Comparison of Different Methods for Next Location Prediction.',\n",
       " 'Topic 12 Theory and Algorithms for Parallel Computation.',\n",
       " 'Topic 14 - Mobile and Ubiquitous Computing.']"
      ]
     },
     "execution_count": 12,
     "metadata": {},
     "output_type": "execute_result"
    }
   ],
   "source": [
    "titles = title_author.map(lambda line: line[1])\n",
    "titles.take(10)"
   ]
  },
  {
   "cell_type": "markdown",
   "metadata": {
    "id": "qHwbHeY77NJo"
   },
   "source": [
    "## A1. Parse the data\n",
    "\n",
    "Here we make use of the natural language processing module `nltk`. Please download both the module and the corresponding data. See https://www.nltk.org/install.html and https://www.nltk.org/data.html for more details."
   ]
  },
  {
   "cell_type": "code",
   "execution_count": 13,
   "metadata": {
    "id": "6M_qGmj-7NJp"
   },
   "outputs": [],
   "source": [
    "import nltk\n",
    "from nltk.tokenize import sent_tokenize, word_tokenize\n",
    "from nltk.corpus import stopwords\n",
    "from nltk.stem.wordnet import WordNetLemmatizer\n",
    "import string"
   ]
  },
  {
   "cell_type": "code",
   "execution_count": 6,
   "metadata": {
    "id": "6M_qGmj-7NJp"
   },
   "outputs": [],
   "source": [
    "# download stopwords and whatever\n",
    "# nltk.download('stopwords')\n",
    "# nltk.download('all', '/home/nltk_data/')"
   ]
  },
  {
   "cell_type": "code",
   "execution_count": 15,
   "metadata": {
    "id": "6M_qGmj-7NJp"
   },
   "outputs": [],
   "source": [
    "# your code\n",
    "stop_words = set(stopwords.words('english'))\n",
    "table = str.maketrans('', '', string.punctuation)\n",
    "lmtzr = WordNetLemmatizer() # see https://www.nltk.org/_modules/nltk/stem/wordnet.html for details\n",
    "\n",
    "def get_tokens(line):\n",
    "#     words = line.split(' ')\n",
    "    tokens = word_tokenize(line)\n",
    "    # convert to lower case\n",
    "    tokens = [w.lower() for w in tokens]\n",
    "    # remove punctuations from each word\n",
    "    stripped = [w.translate(table) for w in tokens]\n",
    "    # remove remaining tokens that are not alphabetic\n",
    "    words = [word for word in stripped if word.isalpha()]\n",
    "    # filter out stop words\n",
    "    words = [w for w in words if not w in stop_words]\n",
    "    # lemmatizing the words, see https://en.wikipedia.org/wiki/Lemmatisation\n",
    "    words = [lmtzr.lemmatize(w) for w in words]\n",
    "    return (words)"
   ]
  },
  {
   "cell_type": "code",
   "execution_count": 7,
   "metadata": {
    "id": "6M_qGmj-7NJp"
   },
   "outputs": [
    {
     "data": {
      "text/plain": [
       "[('Distributed Databases.', ['distributed', 'database']),\n",
       " ('Distributed Databases.', ['distributed', 'database']),\n",
       " ('An Object-Oriented DBMS War Story: Developing a Genome Mapping Database in C++.',\n",
       "  ['objectoriented',\n",
       "   'dbms',\n",
       "   'war',\n",
       "   'story',\n",
       "   'developing',\n",
       "   'genome',\n",
       "   'mapping',\n",
       "   'database',\n",
       "   'c']),\n",
       " ('Cooperative Transactions for Multiuser Environments.',\n",
       "  ['cooperative', 'transaction', 'multiuser', 'environment']),\n",
       " ('Physical Object Management.', ['physical', 'object', 'management'])]"
      ]
     },
     "execution_count": 7,
     "metadata": {},
     "output_type": "execute_result"
    }
   ],
   "source": [
    "titles_rdd = title_author.map(lambda line: (str(line[1]), get_tokens(line[1])))\n",
    "titles_rdd.take(5)"
   ]
  },
  {
   "cell_type": "markdown",
   "metadata": {},
   "source": [
    "I use the `get_tokens` function from week 9's computer class to tokenize the publication titles, remove stopwords and lemmatize words. The authors are not important for this part, so I discard them."
   ]
  },
  {
   "cell_type": "markdown",
   "metadata": {
    "id": "B4kE5SGl7NJp"
   },
   "source": [
    "## A2. Convert tokens into sparse vectors\n"
   ]
  },
  {
   "cell_type": "code",
   "execution_count": 33,
   "metadata": {},
   "outputs": [],
   "source": [
    "from pyspark.ml.feature import CountVectorizer\n",
    "from pyspark.sql.functions import monotonically_increasing_id"
   ]
  },
  {
   "cell_type": "code",
   "execution_count": 8,
   "metadata": {},
   "outputs": [
    {
     "name": "stdout",
     "output_type": "stream",
     "text": [
      "+--------------------+--------------------+\n",
      "|               title|               words|\n",
      "+--------------------+--------------------+\n",
      "|An Adaptive Limit...|[adaptive, limite...|\n",
      "|Real PRAM Program...|[real, pram, prog...|\n",
      "|Design of Multi-d...|[design, multidim...|\n",
      "| Topic Introduction.|[topic, introduct...|\n",
      "| Topic Introduction.|[topic, introduct...|\n",
      "| Topic Introduction.|[topic, introduct...|\n",
      "|Efficient Total-E...|[efficient, total...|\n",
      "|Comparison of Dif...|[comparison, diff...|\n",
      "|Topic 12 Theory a...|[topic, theory, a...|\n",
      "|Topic 14 - Mobile...|[topic, mobile, u...|\n",
      "+--------------------+--------------------+\n",
      "only showing top 10 rows\n",
      "\n"
     ]
    }
   ],
   "source": [
    "titles_df = spark.createDataFrame(titles_rdd, [\"title\",\"words\"])\n",
    "titles_df.cache()\n",
    "titles_df.show(10)"
   ]
  },
  {
   "cell_type": "markdown",
   "metadata": {
    "id": "xjP2RHegERud"
   },
   "source": [
    "## Generate a vectorized representation of the *tokens*\n"
   ]
  },
  {
   "cell_type": "code",
   "execution_count": 9,
   "metadata": {},
   "outputs": [
    {
     "name": "stdout",
     "output_type": "stream",
     "text": [
      "+--------------------+--------------------+--------------------+\n",
      "|               title|               words|            features|\n",
      "+--------------------+--------------------+--------------------+\n",
      "|An Adaptive Limit...|[adaptive, limite...|(56322,[40,55,139...|\n",
      "|Real PRAM Program...|[real, pram, prog...|(56322,[54,361,28...|\n",
      "|Design of Multi-d...|[design, multidim...|(56322,[8,10,36,1...|\n",
      "| Topic Introduction.|[topic, introduct...|(56322,[464,582],...|\n",
      "| Topic Introduction.|[topic, introduct...|(56322,[464,582],...|\n",
      "| Topic Introduction.|[topic, introduct...|(56322,[464,582],...|\n",
      "|Efficient Total-E...|[efficient, total...|(56322,[17,1092,4...|\n",
      "|Comparison of Dif...|[comparison, diff...|(56322,[22,167,19...|\n",
      "|Topic 12 Theory a...|[topic, theory, a...|(56322,[6,25,128,...|\n",
      "|Topic 14 - Mobile...|[topic, mobile, u...|(56322,[28,49,410...|\n",
      "+--------------------+--------------------+--------------------+\n",
      "only showing top 10 rows\n",
      "\n"
     ]
    }
   ],
   "source": [
    "cv = CountVectorizer(inputCol=\"words\", outputCol=\"features\", minDF=2)\n",
    "\n",
    "cv_model = cv.fit(titles_df)\n",
    "\n",
    "titles_df_w_features = cv_model.transform(titles_df)\n",
    "titles_df_w_features.cache()\n",
    "titles_df_w_features.show(10)"
   ]
  },
  {
   "cell_type": "markdown",
   "metadata": {},
   "source": [
    "After creating a Spark dataframe, I use the `CountVectorizer` to turn the tokens into feature vectors. By specifying `minDF=2`, I only use tokens that appear in at least two different titles. \n",
    "\n",
    "The feature vectors are represented as a tiple of length 2 that contains the number of tokens as its first element as well as a list of all tokens present in a title as its second element (the tokens are encoded as integers). Overall, I use 56,322 unique tokens."
   ]
  },
  {
   "cell_type": "markdown",
   "metadata": {
    "id": "UxS38Bsj7NJq"
   },
   "source": [
    "## Convert pyspark.ml vectors to pyspark.mllib vectors"
   ]
  },
  {
   "cell_type": "markdown",
   "metadata": {
    "nteract": {
     "transient": {
      "deleting": false
     }
    }
   },
   "source": [
    "I perform these updates but will not further use the resulting mlib feature vectors since the topic modelling is done using the newer ML library and not the older MLIB library. In addition, the feature vectors that result from the `CountVectorizer` are already sparse. Therefore, I am usure about the advantage of this conversion."
   ]
  },
  {
   "cell_type": "code",
   "execution_count": 127,
   "metadata": {},
   "outputs": [
    {
     "data": {
      "text/plain": [
       "[SparseVector(56322, {12: 1.0, 23: 1.0})]"
      ]
     },
     "execution_count": 127,
     "metadata": {},
     "output_type": "execute_result"
    }
   ],
   "source": [
    "from pyspark.mllib.linalg import Vectors\n",
    "\n",
    "def as_mllib_vector(v):\n",
    "    return Vectors.sparse(v.size, v.indices, v.values)\n",
    "\n",
    "features = titles_df_w_features.select(\"features\")\n",
    "feature_vec = features.rdd.map(lambda r: as_mllib_vector(r[0]))\n",
    "\n",
    "# feature_vec.cache()\n",
    "feature_vec.take(1)"
   ]
  },
  {
   "cell_type": "markdown",
   "metadata": {
    "id": "X0JxSajd7NJr"
   },
   "source": [
    "## Check the vocabulary"
   ]
  },
  {
   "cell_type": "code",
   "execution_count": 10,
   "metadata": {},
   "outputs": [
    {
     "name": "stdout",
     "output_type": "stream",
     "text": [
      "Number of terms W =  56322\n",
      "Vocabulary from CountVectorizerModel is:\n",
      "['system', 'using', 'network', 'model', 'based', 'data', 'algorithm', 'analysis', 'application', 'approach', 'design', 'image', 'distributed', 'web', 'service', 'learning', 'information', 'efficient', 'dynamic', 'architecture', 'performance', 'software', 'method', 'database', 'environment', 'parallel', 'control', 'management', 'mobile', 'framework', 'logic', 'query', 'problem', 'detection', 'object', 'modeling', 'video', 'wireless', 'language', 'evaluation', 'adaptive', 'new', 'protocol', 'graph', 'sensor', 'technique', 'process', 'program', 'optimization', 'computing', 'retrieval', 'agent', 'study', 'search', 'programming', 'scheme', 'support', 'scheduling', 'realtime', 'recognition', 'towards', 'semantic', 'communication', 'knowledge', 'mining', 'pattern', 'time', 'simulation', 'implementation', 'multiple', 'structure', 'constraint', 'automatic', 'classification', 'grid', 'routing', 'feature', 'power', 'memory', 'tool', 'generation', 'estimation', 'tree', 'user', 'fast', 'processing', 'virtual', 'robot', 'set', 'clustering', 'development', 'case', 'abstract', 'selection', 'machine', 'access', 'test', 'document', 'security', 'motion']\n"
     ]
    }
   ],
   "source": [
    "print(\"Number of terms W = \", len(cv_model.vocabulary))\n",
    "print (\"Vocabulary from CountVectorizerModel is:\")\n",
    "print(cv_model.vocabulary[:100])"
   ]
  },
  {
   "cell_type": "markdown",
   "metadata": {
    "id": "JHmr73aL7NJr"
   },
   "source": [
    "## A3. Latent Dirichlet Allocation"
   ]
  },
  {
   "cell_type": "code",
   "execution_count": 40,
   "metadata": {},
   "outputs": [],
   "source": [
    "from pyspark.ml.clustering import LDA"
   ]
  },
  {
   "cell_type": "code",
   "execution_count": 12,
   "metadata": {},
   "outputs": [
    {
     "name": "stdout",
     "output_type": "stream",
     "text": [
      "CPU times: user 24.9 ms, sys: 4.82 ms, total: 29.7 ms\n",
      "Wall time: 15.2 s\n"
     ]
    }
   ],
   "source": [
    "%%time\n",
    "# initialize and run LDA\n",
    "lda = LDA(k=10, maxIter=5)\n",
    "lda_model = lda.fit(titles_df_w_features)"
   ]
  },
  {
   "cell_type": "markdown",
   "metadata": {
    "id": "l9roli0F7NJs"
   },
   "source": [
    "Looking at the topics:"
   ]
  },
  {
   "cell_type": "code",
   "execution_count": 13,
   "metadata": {
    "id": "z-D8pLq07NJr"
   },
   "outputs": [
    {
     "name": "stdout",
     "output_type": "stream",
     "text": [
      "The topics described by their top-weighted terms:\n",
      "+-----+--------------------+--------------------+\n",
      "|topic|         termIndices|         termWeights|\n",
      "+-----+--------------------+--------------------+\n",
      "|    0|     [1, 3, 4, 6, 2]|[0.01304233675660...|\n",
      "|    1|[0, 703, 479, 17,...|[0.00220526495685...|\n",
      "|    2|  [30, 15, 47, 1, 4]|[0.00549904050926...|\n",
      "|    3|   [5, 0, 38, 64, 2]|[0.01474830098483...|\n",
      "|    4|   [2, 0, 1, 22, 18]|[0.00172715391860...|\n",
      "|    5| [13, 21, 14, 6, 61]|[9.99265139795183...|\n",
      "|    6|   [2, 0, 37, 42, 5]|[0.01509815541227...|\n",
      "|    7|     [4, 0, 2, 8, 5]|[0.00202393271187...|\n",
      "|    8|    [0, 1, 7, 12, 8]|[0.02100461290465...|\n",
      "|    9| [0, 7, 8, 1926, 43]|[0.00137709744974...|\n",
      "+-----+--------------------+--------------------+\n",
      "\n"
     ]
    }
   ],
   "source": [
    "# your code\n",
    "topics = lda_model.describeTopics(5)\n",
    "\n",
    "print(\"The topics described by their top-weighted terms:\")\n",
    "topics.show(truncate=True)"
   ]
  },
  {
   "cell_type": "code",
   "execution_count": 14,
   "metadata": {
    "id": "z-D8pLq07NJr"
   },
   "outputs": [
    {
     "name": "stdout",
     "output_type": "stream",
     "text": [
      "['using' 'model' 'based' 'algorithm' 'network']\n",
      "['system' 'der' 'und' 'efficient' 'von']\n",
      "['logic' 'learning' 'program' 'using' 'based']\n",
      "['data' 'system' 'language' 'mining' 'network']\n",
      "['network' 'system' 'using' 'method' 'dynamic']\n",
      "['web' 'software' 'service' 'algorithm' 'semantic']\n",
      "['network' 'system' 'wireless' 'protocol' 'data']\n",
      "['based' 'system' 'network' 'application' 'data']\n",
      "['system' 'using' 'analysis' 'distributed' 'application']\n",
      "['system' 'analysis' 'application' 'di' 'graph']\n"
     ]
    }
   ],
   "source": [
    "# Shows the results\n",
    "import numpy as np\n",
    "topic_i = topics.select(\"termIndices\").rdd.map(lambda r: r[0]).collect()\n",
    "for i in topic_i:\n",
    "    print(np.array(cv_model.vocabulary)[i])"
   ]
  },
  {
   "cell_type": "markdown",
   "metadata": {
    "id": "z5jJOFTKGWSe"
   },
   "source": [
    "## A4. Comment your results"
   ]
  },
  {
   "cell_type": "markdown",
   "metadata": {},
   "source": [
    "I sticked with 10 different topics as suggested in the instructions. Some are, however, quite difficult to distinguish by their top 5 words only. Most likely, this is because many of these words are quite generic and frequently occur in titles across domains.\n",
    "\n",
    "One solution for this problem could be to remove more words, especially those that are very frequent across all publication titles. Alternatively, weighting terms not simply by their counts but in a more sophisticated way often boosts the performance. In particular, _TF-IDF_ (term frequency-inverse document frequency) is a popular and effective approach that often leads to better results.\n",
    "\n",
    "Interestingly, there seems to be a German topic (the second one), which should be easier to distinguish from the rest because these words do not occur elsewhere. Three of those five German words, however, are stopwords. Of course, these were not removed since we only removed English stopwords. This highlights the need of multi-language NLP algorithms."
   ]
  },
  {
   "cell_type": "markdown",
   "metadata": {
    "id": "0fIECxa_7NJs"
   },
   "source": [
    "## B1. Convert tokens into sparse vectors"
   ]
  },
  {
   "cell_type": "code",
   "execution_count": 16,
   "metadata": {},
   "outputs": [],
   "source": [
    "author_tokens = title_author.flatMapValues(get_tokens).groupByKey()\\\n",
    "                    .map(lambda row: (str(row[0]), row[1])).mapValues(list)"
   ]
  },
  {
   "cell_type": "code",
   "execution_count": 17,
   "metadata": {
    "id": "c-o5lCix7NJt",
    "outputId": "1260e6ee-fce1-4acb-b55d-5c85e0175f8c"
   },
   "outputs": [
    {
     "name": "stdout",
     "output_type": "stream",
     "text": [
      "[('Ignas G. Niemegeers', ['cognitive', 'architecture', 'personal', 'network', 'method', 'analysing', 'performance', 'aspect', 'faulttolerance', 'mechanism', 'fddi', 'density', 'estimation', 'outofrange', 'event', 'personal', 'mobile', 'device', 'cross', 'layer', 'design', 'enhanced', 'quality', 'routing', 'personal', 'wireless', 'networking', 'communication', 'context', 'adaptive', 'mobile', 'application', 'modelling', 'reassembly', 'buffer', 'connectionless', 'server', 'extensible', 'network', 'resource', 'abstraction', 'application', 'mobile', 'device', 'integration', 'umts', 'bisdn', 'system', 'clustering', 'ad', 'hoc', 'personal', 'network', 'formation', 'integration', 'broadband', 'broadcasting', 'wireless', 'technology', 'umts', 'radio', 'access', 'level', 'dvbh', 'umts', 'integration', 'radio', 'access', 'level', 'voice', 'activity', 'detection', 'voipan', 'information', 'theoretic', 'approach', 'ad', 'hoc', 'federation', 'network', 'fednets', 'mechanism', 'requirement', 'system', 'perspective', 'cognition', 'autonomic', 'computing', 'communication', 'research', 'issue', 'qos', 'provisioning', 'personal', 'network', 'mac', 'protocol', 'design', 'impulse', 'radio', 'uwb', 'based', 'wpans', 'privacy', 'anonymity', 'personal', 'network', 'framework', 'integration', 'different', 'wlan', 'technology', 'umts', 'radio', 'access', 'level', 'resource', 'optimization', 'ghz', 'indoor', 'network', 'using', 'dynamic', 'extended', 'cell', 'formation', 'ctit', 'research', 'alliance', 'telematics', 'voice', 'transmission', 'priority', 'csmaac', 'lan', 'efficient', 'protocol', 'using', 'hybrid', 'switching', 'performance', 'modelling', 'hslan', 'slotted', 'ring', 'protocol', 'europcom', 'ultrawideband', 'uwb', 'based', 'ad', 'hoc', 'network', 'emergency', 'application', 'selfconfiguration', 'manet', 'different', 'perspective', 'analyzing', 'effect', 'node', 'mobility', 'clustered', 'wireless', 'ad', 'hoc', 'network', 'variable', 'bandwidth', 'connection', 'connectionless', 'service', 'atmperformance', 'modelling', 'evaluation', 'toward', 'seamless', 'communication', 'architecture', 'inbuilding', 'network', 'ghz', 'band', 'performance', 'analysis', 'link', 'layer', 'protocol', 'uwb', 'impulse', 'radio', 'network', 'solving', 'incertitude', 'vertical', 'handover', 'heterogeneous', 'mobile', 'wireless', 'network', 'using', 'mdp', 'stability', 'ad', 'hoc', 'group', 'mobility', 'model', 'impact', 'umtswcdma', 'channel', 'roundtrip', 'time', 'variation', 'tcp', 'vega', 'performance', 'quantitative', 'evaluation', 'scalability', 'broadband', 'intelligent', 'network', 'performance', 'tcp', 'vega', 'umtswcdma', 'channel', 'large', 'roundtrip', 'time', 'variation', 'selforganizing', 'link', 'layer', 'protocol', 'uwb', 'ad', 'hoc', 'network', 'performability', 'modelling', 'using', 'dynamic', 'queueing', 'network', 'architecture', 'intrapersonal', 'network', 'communication', 'fewpnets', 'framework', 'emulation', 'wireless', 'personal', 'network', 'selforganized', 'personal', 'network', 'architecture', 'experiencebased', 'network', 'resource', 'usage', 'mobile', 'host', 'multihop', 'iruwb', 'wpan', 'architecture', 'protocol', 'biobjective', 'power', 'aware', 'routing', 'algorithm', 'personal', 'network', 'evaluation', 'high', 'speed', 'local', 'area', 'access', 'mechanism', 'analysis', 'ieee', 'radio', 'fiber', 'home', 'network', 'framework', 'selforganization', 'personal', 'network', 'modelling', 'workload', 'multiservice', 'lan'])]\n"
     ]
    }
   ],
   "source": [
    "# example output before removing additonal stopwords\n",
    "print(author_tokens.take(1))"
   ]
  },
  {
   "cell_type": "code",
   "execution_count": 28,
   "metadata": {
    "scrolled": true,
    "tags": []
   },
   "outputs": [
    {
     "data": {
      "text/plain": [
       "['using', 'network', 'model', 'algorithm', 'based', 'system', 'data']"
      ]
     },
     "execution_count": 28,
     "metadata": {},
     "output_type": "execute_result"
    }
   ],
   "source": [
    "# remove stopwords\n",
    "doc_stop_words = author_tokens.flatMap(lambda r: r[1]).map(lambda r: (r,1)).reduceByKey(lambda a,b: a+b)\n",
    "doc_stop_words = doc_stop_words.filter(lambda a: a[1]>25000).map(lambda r: r[0]).collect()\n",
    "doc_stop_words"
   ]
  },
  {
   "cell_type": "code",
   "execution_count": 30,
   "metadata": {},
   "outputs": [
    {
     "name": "stdout",
     "output_type": "stream",
     "text": [
      "[('Ignas G. Niemegeers', ['cognitive', 'architecture', 'personal', 'method', 'analysing', 'performance', 'aspect', 'faulttolerance', 'mechanism', 'fddi', 'density', 'estimation', 'outofrange', 'event', 'personal', 'mobile', 'device', 'cross', 'layer', 'design', 'enhanced', 'quality', 'routing', 'personal', 'wireless', 'networking', 'communication', 'context', 'adaptive', 'mobile', 'application', 'modelling', 'reassembly', 'buffer', 'connectionless', 'server', 'extensible', 'resource', 'abstraction', 'application', 'mobile', 'device', 'integration', 'umts', 'bisdn', 'clustering', 'ad', 'hoc', 'personal', 'formation', 'integration', 'broadband', 'broadcasting', 'wireless', 'technology', 'umts', 'radio', 'access', 'level', 'dvbh', 'umts', 'integration', 'radio', 'access', 'level', 'voice', 'activity', 'detection', 'voipan', 'information', 'theoretic', 'approach', 'ad', 'hoc', 'federation', 'fednets', 'mechanism', 'requirement', 'perspective', 'cognition', 'autonomic', 'computing', 'communication', 'research', 'issue', 'qos', 'provisioning', 'personal', 'mac', 'protocol', 'design', 'impulse', 'radio', 'uwb', 'wpans', 'privacy', 'anonymity', 'personal', 'framework', 'integration', 'different', 'wlan', 'technology', 'umts', 'radio', 'access', 'level', 'resource', 'optimization', 'ghz', 'indoor', 'dynamic', 'extended', 'cell', 'formation', 'ctit', 'research', 'alliance', 'telematics', 'voice', 'transmission', 'priority', 'csmaac', 'lan', 'efficient', 'protocol', 'hybrid', 'switching', 'performance', 'modelling', 'hslan', 'slotted', 'ring', 'protocol', 'europcom', 'ultrawideband', 'uwb', 'ad', 'hoc', 'emergency', 'application', 'selfconfiguration', 'manet', 'different', 'perspective', 'analyzing', 'effect', 'node', 'mobility', 'clustered', 'wireless', 'ad', 'hoc', 'variable', 'bandwidth', 'connection', 'connectionless', 'service', 'atmperformance', 'modelling', 'evaluation', 'toward', 'seamless', 'communication', 'architecture', 'inbuilding', 'ghz', 'band', 'performance', 'analysis', 'link', 'layer', 'protocol', 'uwb', 'impulse', 'radio', 'solving', 'incertitude', 'vertical', 'handover', 'heterogeneous', 'mobile', 'wireless', 'mdp', 'stability', 'ad', 'hoc', 'group', 'mobility', 'impact', 'umtswcdma', 'channel', 'roundtrip', 'time', 'variation', 'tcp', 'vega', 'performance', 'quantitative', 'evaluation', 'scalability', 'broadband', 'intelligent', 'performance', 'tcp', 'vega', 'umtswcdma', 'channel', 'large', 'roundtrip', 'time', 'variation', 'selforganizing', 'link', 'layer', 'protocol', 'uwb', 'ad', 'hoc', 'performability', 'modelling', 'dynamic', 'queueing', 'architecture', 'intrapersonal', 'communication', 'fewpnets', 'framework', 'emulation', 'wireless', 'personal', 'selforganized', 'personal', 'architecture', 'experiencebased', 'resource', 'usage', 'mobile', 'host', 'multihop', 'iruwb', 'wpan', 'architecture', 'protocol', 'biobjective', 'power', 'aware', 'routing', 'personal', 'evaluation', 'high', 'speed', 'local', 'area', 'access', 'mechanism', 'analysis', 'ieee', 'radio', 'fiber', 'home', 'framework', 'selforganization', 'personal', 'modelling', 'workload', 'multiservice', 'lan'])]\n"
     ]
    }
   ],
   "source": [
    "author_tokens_no_stop = author_tokens\\\n",
    "    .map(lambda r: (r[0],[w for w in r[1] if not w in doc_stop_words and not len(w)==1]))\n",
    "\n",
    "# show example after removing stopwords\n",
    "print(author_tokens_no_stop.take(1))"
   ]
  },
  {
   "cell_type": "code",
   "execution_count": 35,
   "metadata": {},
   "outputs": [
    {
     "name": "stdout",
     "output_type": "stream",
     "text": [
      "+--------------------+--------------------+\n",
      "|              author|               words|\n",
      "+--------------------+--------------------+\n",
      "|Christos D. Zarol...|[topic, theory, p...|\n",
      "|   Evaggelia Pitoura|[topic, mobile, u...|\n",
      "|      Valrie Issarny|[topic, mobile, u...|\n",
      "|            Xiao Qin|[dynamic, load, b...|\n",
      "|          Hong Jiang|[dynamic, load, b...|\n",
      "|        Geoffrey Fox|[metacomputing, p...|\n",
      "|       Frdric Vivien|[static, loadbala...|\n",
      "|     Franck Cappello|[private, virtual...|\n",
      "|  Thomas Ludwig 0002|[configurable, lo...|\n",
      "|Koenraad De Bossc...|[detecting, race,...|\n",
      "+--------------------+--------------------+\n",
      "only showing top 10 rows\n",
      "\n"
     ]
    }
   ],
   "source": [
    "# create a dataframe\n",
    "author_tokens_df = spark.createDataFrame(author_tokens_no_stop, [\"author\",\"words\"])\n",
    "author_tokens_df.show(10)"
   ]
  },
  {
   "cell_type": "markdown",
   "metadata": {
    "id": "1VkqEpsAHfBC"
   },
   "source": [
    "## Generate a vectorized representation of the *tokens*"
   ]
  },
  {
   "cell_type": "code",
   "execution_count": 36,
   "metadata": {},
   "outputs": [
    {
     "name": "stdout",
     "output_type": "stream",
     "text": [
      "+--------------------+--------------------+--------------------+\n",
      "|              author|               words|            features|\n",
      "+--------------------+--------------------+--------------------+\n",
      "| Ignas G. Niemegeers|[cognitive, archi...|(53195,[0,1,2,3,7...|\n",
      "|     Kees M. van Hee|[policy, iteratio...|(53195,[0,1,2,7,9...|\n",
      "|   Sjaak Brinkkemper|[method, engineer...|(53195,[0,1,2,3,5...|\n",
      "|Alistair G. Sutcl...|[use, domain, kno...|(53195,[0,1,2,3,4...|\n",
      "|   George S. Avrunin|[engineering, med...|(53195,[0,2,3,5,9...|\n",
      "|      Lori A. Clarke|[engineering, med...|(53195,[0,1,2,3,9...|\n",
      "|          Klaus Pohl|[information, qua...|(53195,[0,1,2,3,5...|\n",
      "|       Pedro Antunes|[visuallydriven, ...|(53195,[0,1,2,3,5...|\n",
      "|        Frank Vetere|[decisionmaking, ...|(53195,[3,4,5,8,9...|\n",
      "|      Luciano Baresi|[workflow, partit...|(53195,[0,1,2,3,5...|\n",
      "+--------------------+--------------------+--------------------+\n",
      "only showing top 10 rows\n",
      "\n"
     ]
    }
   ],
   "source": [
    "cv = CountVectorizer(inputCol=\"words\", outputCol=\"features\", minDF=2)\n",
    "\n",
    "# fit the vectorizer\n",
    "author_cv_model = cv.fit(author_tokens_df)\n",
    "\n",
    "author_tokens_df_w_features = author_cv_model.transform(author_tokens_df)\n",
    "author_tokens_df_w_features.cache()\n",
    "author_tokens_df_w_features.show(10)"
   ]
  },
  {
   "cell_type": "markdown",
   "metadata": {
    "id": "UdVwBNdt7NJu"
   },
   "source": [
    "## Convert pyspark.ml vectors to pyspark.mllib vectors"
   ]
  },
  {
   "cell_type": "markdown",
   "metadata": {},
   "source": [
    "As before, I perform this conversion but use the feature vectors obtained above for the rest of this example."
   ]
  },
  {
   "cell_type": "code",
   "execution_count": 152,
   "metadata": {},
   "outputs": [
    {
     "data": {
      "text/plain": [
       "[SparseVector(53187, {2: 2.0, 3: 4.0, 4: 2.0, 5: 4.0, 8: 5.0, 9: 3.0, 11: 1.0, 13: 5.0, 14: 2.0, 17: 2.0, 18: 2.0, 19: 4.0, 20: 3.0, 22: 3.0, 26: 4.0, 27: 10.0, 30: 2.0, 31: 1.0, 32: 2.0, 34: 1.0, 36: 3.0, 37: 1.0, 39: 1.0, 41: 1.0, 43: 1.0, 45: 3.0, 46: 1.0, 47: 16.0, 51: 2.0, 53: 3.0, 54: 1.0, 57: 1.0, 58: 1.0, 62: 3.0, 64: 1.0, 65: 1.0, 69: 1.0, 70: 1.0, 71: 2.0, 77: 1.0, 85: 1.0, 87: 2.0, 92: 3.0, 97: 1.0, 98: 2.0, 109: 1.0, 111: 1.0, 115: 1.0, 116: 2.0, 120: 1.0, 124: 1.0, 130: 2.0, 141: 1.0, 143: 1.0, 147: 3.0, 148: 1.0, 156: 1.0, 159: 2.0, 169: 15.0, 179: 2.0, 181: 1.0, 182: 2.0, 184: 4.0, 191: 1.0, 195: 1.0, 197: 4.0, 214: 1.0, 217: 1.0, 222: 6.0, 228: 1.0, 229: 2.0, 233: 1.0, 251: 3.0, 252: 1.0, 255: 5.0, 261: 1.0, 267: 1.0, 269: 2.0, 274: 2.0, 276: 1.0, 283: 1.0, 285: 1.0, 286: 1.0, 290: 2.0, 294: 2.0, 304: 1.0, 305: 1.0, 306: 3.0, 308: 1.0, 309: 4.0, 317: 3.0, 319: 1.0, 324: 1.0, 348: 2.0, 363: 2.0, 374: 1.0, 379: 1.0, 383: 2.0, 385: 1.0, 386: 3.0, 388: 4.0, 406: 1.0, 415: 12.0, 423: 1.0, 432: 9.0, 435: 1.0, 436: 1.0, 437: 1.0, 439: 1.0, 443: 1.0, 445: 5.0, 449: 1.0, 454: 1.0, 471: 3.0, 479: 1.0, 513: 1.0, 530: 1.0, 535: 1.0, 538: 1.0, 540: 8.0, 554: 1.0, 568: 1.0, 586: 1.0, 604: 1.0, 605: 1.0, 622: 1.0, 626: 2.0, 648: 1.0, 655: 1.0, 680: 1.0, 688: 1.0, 706: 1.0, 715: 1.0, 720: 2.0, 793: 1.0, 802: 3.0, 836: 3.0, 840: 1.0, 855: 1.0, 858: 7.0, 862: 1.0, 866: 1.0, 939: 2.0, 949: 14.0, 951: 1.0, 965: 1.0, 971: 1.0, 973: 1.0, 989: 1.0, 997: 1.0, 1008: 1.0, 1048: 1.0, 1056: 1.0, 1066: 1.0, 1081: 1.0, 1086: 1.0, 1089: 6.0, 1096: 1.0, 1099: 1.0, 1116: 2.0, 1119: 3.0, 1156: 4.0, 1175: 1.0, 1177: 1.0, 1221: 1.0, 1224: 1.0, 1272: 1.0, 1278: 1.0, 1335: 1.0, 1350: 1.0, 1365: 4.0, 1375: 14.0, 1378: 1.0, 1413: 1.0, 1428: 1.0, 1450: 1.0, 1451: 1.0, 1477: 1.0, 1489: 3.0, 1494: 1.0, 1517: 1.0, 1519: 2.0, 1670: 1.0, 1731: 1.0, 1732: 1.0, 1778: 3.0, 1793: 1.0, 1798: 1.0, 1799: 3.0, 1815: 1.0, 1879: 1.0, 2129: 1.0, 2166: 3.0, 2193: 1.0, 2207: 2.0, 2263: 1.0, 2305: 3.0, 2311: 2.0, 2344: 1.0, 2353: 3.0, 2437: 1.0, 2600: 1.0, 2639: 1.0, 2700: 1.0, 2784: 1.0, 2962: 1.0, 2984: 1.0, 3119: 1.0, 3290: 1.0, 3419: 1.0, 3444: 1.0, 3559: 1.0, 3621: 1.0, 3635: 1.0, 3653: 1.0, 3837: 1.0, 3845: 1.0, 4076: 1.0, 4184: 1.0, 4276: 1.0, 4282: 1.0, 4435: 1.0, 4437: 1.0, 4633: 1.0, 4962: 1.0, 5382: 1.0, 5421: 1.0, 5549: 1.0, 5769: 1.0, 5876: 1.0, 5970: 1.0, 6228: 2.0, 6564: 1.0, 6935: 1.0, 7047: 1.0, 7473: 1.0, 7504: 1.0, 7866: 1.0, 8087: 1.0, 8290: 1.0, 8576: 1.0, 9003: 1.0, 9578: 1.0, 10225: 1.0, 10843: 1.0, 11058: 1.0, 11061: 1.0, 11891: 1.0, 13338: 1.0, 14601: 1.0, 19696: 1.0, 19771: 1.0, 22227: 1.0, 29239: 2.0, 31246: 1.0, 32713: 1.0, 33429: 1.0, 34365: 1.0, 35020: 1.0, 39274: 1.0, 43390: 1.0, 44250: 1.0, 44555: 1.0, 44822: 1.0})]"
      ]
     },
     "execution_count": 152,
     "metadata": {},
     "output_type": "execute_result"
    }
   ],
   "source": [
    "from pyspark.mllib.linalg import Vectors\n",
    "\n",
    "def as_mllib_vector(v):\n",
    "    return Vectors.sparse(v.size, v.indices, v.values)\n",
    "\n",
    "features = author_tokens_df_w_features.select(\"features\")\n",
    "feature_vec = features.rdd.map(lambda r: as_mllib_vector(r[0]))\n",
    "\n",
    "# feature_vec.cache()\n",
    "feature_vec.take(1)"
   ]
  },
  {
   "cell_type": "markdown",
   "metadata": {
    "id": "CatbxUVB7NJv"
   },
   "source": [
    "### Take a look at the vocabulary"
   ]
  },
  {
   "cell_type": "code",
   "execution_count": 38,
   "metadata": {
    "id": "cgSlC5nT7NJv",
    "outputId": "a269f005-d5c1-4267-ef90-90583853c984"
   },
   "outputs": [
    {
     "name": "stdout",
     "output_type": "stream",
     "text": [
      "Number of terms W =  53195\n",
      "Vocabulary from CountVectorizerModel is:\n",
      "['analysis', 'application', 'approach', 'design', 'image', 'distributed', 'web', 'service', 'learning', 'information', 'efficient', 'dynamic', 'architecture', 'performance', 'software', 'method', 'database', 'environment', 'parallel', 'control', 'management', 'mobile', 'framework', 'logic', 'query', 'problem', 'detection', 'object', 'modeling', 'video', 'wireless', 'language', 'evaluation', 'adaptive', 'new', 'protocol', 'graph', 'sensor', 'technique', 'process', 'program', 'optimization', 'computing', 'retrieval', 'agent', 'study', 'search', 'programming', 'scheme', 'support', 'scheduling', 'realtime', 'recognition', 'towards', 'semantic', 'communication', 'knowledge', 'mining', 'pattern', 'time', 'simulation', 'implementation', 'multiple', 'structure', 'constraint', 'automatic', 'classification', 'grid', 'routing', 'feature', 'power', 'memory', 'tool', 'generation', 'estimation', 'tree', 'user', 'fast', 'processing', 'virtual', 'robot', 'set', 'clustering', 'development', 'case', 'abstract', 'selection', 'machine', 'access', 'test', 'document', 'security', 'motion', 'space', 'optimal', 'interface', 'circuit', 'multimedia', 'digital', 'resource']\n"
     ]
    }
   ],
   "source": [
    "print(\"Number of terms W = \", len(author_cv_model.vocabulary))\n",
    "print (\"Vocabulary from CountVectorizerModel is:\")\n",
    "print(author_cv_model.vocabulary[:100])"
   ]
  },
  {
   "cell_type": "markdown",
   "metadata": {
    "id": "dWAqVT027NJw"
   },
   "source": [
    "## B1. Latent Dirichlet Allocation\n",
    "\n",
    "We now analyse the same dataset but using the Latent Dirichlet Allocation to find feature vectors characterizing topics of documents, and feature vectors characterizing the words of topics.\n",
    "\n"
   ]
  },
  {
   "cell_type": "code",
   "execution_count": 41,
   "metadata": {},
   "outputs": [
    {
     "name": "stdout",
     "output_type": "stream",
     "text": [
      "CPU times: user 23 ms, sys: 3.12 ms, total: 26.1 ms\n",
      "Wall time: 10.9 s\n"
     ]
    }
   ],
   "source": [
    "%%time\n",
    "# initialize and run LDA\n",
    "lda = LDA(k=10, maxIter=5)\n",
    "lda_model = lda.fit(author_tokens_df_w_features)"
   ]
  },
  {
   "cell_type": "code",
   "execution_count": 42,
   "metadata": {},
   "outputs": [
    {
     "name": "stdout",
     "output_type": "stream",
     "text": [
      "+--------------------+--------------------+--------------------+\n",
      "|              author|               words|            features|\n",
      "+--------------------+--------------------+--------------------+\n",
      "| Ignas G. Niemegeers|[cognitive, archi...|(53195,[0,1,2,3,7...|\n",
      "|     Kees M. van Hee|[policy, iteratio...|(53195,[0,1,2,7,9...|\n",
      "|   Sjaak Brinkkemper|[method, engineer...|(53195,[0,1,2,3,5...|\n",
      "|Alistair G. Sutcl...|[use, domain, kno...|(53195,[0,1,2,3,4...|\n",
      "|   George S. Avrunin|[engineering, med...|(53195,[0,2,3,5,9...|\n",
      "|      Lori A. Clarke|[engineering, med...|(53195,[0,1,2,3,9...|\n",
      "|          Klaus Pohl|[information, qua...|(53195,[0,1,2,3,5...|\n",
      "|       Pedro Antunes|[visuallydriven, ...|(53195,[0,1,2,3,5...|\n",
      "|        Frank Vetere|[decisionmaking, ...|(53195,[3,4,5,8,9...|\n",
      "|      Luciano Baresi|[workflow, partit...|(53195,[0,1,2,3,5...|\n",
      "+--------------------+--------------------+--------------------+\n",
      "only showing top 10 rows\n",
      "\n"
     ]
    }
   ],
   "source": [
    "author_tokens_df_w_features.show(10)"
   ]
  },
  {
   "cell_type": "markdown",
   "metadata": {
    "id": "l9roli0F7NJs"
   },
   "source": [
    "Looking at the topics:"
   ]
  },
  {
   "cell_type": "code",
   "execution_count": 43,
   "metadata": {
    "id": "z-D8pLq07NJr"
   },
   "outputs": [
    {
     "name": "stdout",
     "output_type": "stream",
     "text": [
      "The topics described by their top-weighted terms:\n",
      "+-----+--------------------+--------------------+\n",
      "|topic|         termIndices|         termWeights|\n",
      "+-----+--------------------+--------------------+\n",
      "|    0|   [6, 3, 1, 10, 16]|[0.00163929522397...|\n",
      "|    1|     [0, 4, 1, 3, 8]|[0.00145573371263...|\n",
      "|    2|  [0, 96, 70, 3, 37]|[0.00279599935651...|\n",
      "|    3|  [70, 2, 0, 13, 74]|[6.09780262412954...|\n",
      "|    4|  [0, 2, 64, 24, 36]|[0.00108986452539...|\n",
      "|    5|    [8, 2, 0, 40, 3]|[8.50447978928385...|\n",
      "|    6|[89, 96, 100, 3, 73]|[0.00539225763913...|\n",
      "|    7|     [0, 2, 1, 4, 5]|[0.00670131264442...|\n",
      "|    8|   [0, 14, 3, 40, 5]|[0.00156100925315...|\n",
      "|    9|   [7, 31, 1, 6, 20]|[3.30012048074474...|\n",
      "+-----+--------------------+--------------------+\n",
      "\n"
     ]
    }
   ],
   "source": [
    "# your code\n",
    "topics = lda_model.describeTopics(5)\n",
    "\n",
    "print(\"The topics described by their top-weighted terms:\")\n",
    "topics.show(truncate=True)"
   ]
  },
  {
   "cell_type": "code",
   "execution_count": 45,
   "metadata": {
    "id": "z-D8pLq07NJr",
    "scrolled": true,
    "tags": []
   },
   "outputs": [
    {
     "name": "stdout",
     "output_type": "stream",
     "text": [
      "['web' 'design' 'application' 'efficient' 'database']\n",
      "['analysis' 'image' 'application' 'design' 'learning']\n",
      "['analysis' 'circuit' 'power' 'design' 'sensor']\n",
      "['power' 'approach' 'analysis' 'performance' 'estimation']\n",
      "['analysis' 'approach' 'constraint' 'query' 'graph']\n",
      "['learning' 'approach' 'analysis' 'program' 'design']\n",
      "['test' 'circuit' 'fault' 'design' 'generation']\n",
      "['analysis' 'approach' 'application' 'image' 'distributed']\n",
      "['analysis' 'software' 'design' 'program' 'distributed']\n",
      "['service' 'language' 'application' 'web' 'management']\n"
     ]
    }
   ],
   "source": [
    "# Shows the results\n",
    "import numpy as np\n",
    "topic_i = topics.select(\"termIndices\").rdd.map(lambda r: r[0]).collect()\n",
    "for i in topic_i:\n",
    "    print(np.array(author_cv_model.vocabulary)[i])"
   ]
  },
  {
   "cell_type": "code",
   "execution_count": 46,
   "metadata": {},
   "outputs": [
    {
     "name": "stdout",
     "output_type": "stream",
     "text": [
      "+--------------------+--------------------+--------------------+--------------------+\n",
      "|              author|               words|            features|   topicDistribution|\n",
      "+--------------------+--------------------+--------------------+--------------------+\n",
      "| Ignas G. Niemegeers|[cognitive, archi...|(53195,[0,1,2,3,7...|[3.51900543513945...|\n",
      "|     Kees M. van Hee|[policy, iteratio...|(53195,[0,1,2,7,9...|[6.08347798926278...|\n",
      "|   Sjaak Brinkkemper|[method, engineer...|(53195,[0,1,2,3,5...|[2.19178045736207...|\n",
      "|Alistair G. Sutcl...|[use, domain, kno...|(53195,[0,1,2,3,4...|[2.24000989153387...|\n",
      "|   George S. Avrunin|[engineering, med...|(53195,[0,2,3,5,9...|[4.99214653833859...|\n",
      "|      Lori A. Clarke|[engineering, med...|(53195,[0,1,2,3,9...|[2.64666647249385...|\n",
      "|          Klaus Pohl|[information, qua...|(53195,[0,1,2,3,5...|[2.63913948546808...|\n",
      "|       Pedro Antunes|[visuallydriven, ...|(53195,[0,1,2,3,5...|[2.93425266317370...|\n",
      "|        Frank Vetere|[decisionmaking, ...|(53195,[3,4,5,8,9...|[5.88873569226827...|\n",
      "|      Luciano Baresi|[workflow, partit...|(53195,[0,1,2,3,5...|[2.64663231502957...|\n",
      "|        Reiko Heckel|[conceptual, mode...|(53195,[0,1,2,3,6...|[2.00074330264794...|\n",
      "|           Tao Zhang|[resolve, conflic...|(53195,[0,1,2,3,4...|[1.34453791529299...|\n",
      "|             Ping Li|[segmentation, tr...|(53195,[0,1,2,4,8...|[1.87800296708888...|\n",
      "|               Yi Li|[approach, enterp...|(53195,[0,1,2,3,4...|[1.80778424606275...|\n",
      "|          Jing Zhang|[integration, fra...|(53195,[0,1,2,3,4...|[9.11009197281472...|\n",
      "|           Lei Huang|[research, applic...|(53195,[0,1,2,4,5...|[4.13739992632910...|\n",
      "|         Qiang Zhang|[research, geneti...|(53195,[0,2,3,4,5...|[2.85220718932134...|\n",
      "|         Ken Kennedy|[automatic, layou...|(53195,[0,1,5,9,1...|[1.54340031720765...|\n",
      "|         Pter Kacsuk|[dataflow, logicf...|(53195,[0,1,2,3,5...|[2.38542516329234...|\n",
      "|           Evan Tick|[demanddriven, da...|(53195,[0,3,10,12...|[5.13162833087554...|\n",
      "+--------------------+--------------------+--------------------+--------------------+\n",
      "only showing top 20 rows\n",
      "\n"
     ]
    }
   ],
   "source": [
    "transformed = lda_model.transform(author_tokens_df_w_features)\n",
    "transformed.show(truncate=True)"
   ]
  },
  {
   "cell_type": "markdown",
   "metadata": {
    "id": "AitucvvP7NJw"
   },
   "source": [
    "The perplexity below is a measurement of how well a probability model predicts a sample. It may be used to compare probability models. A low perplexity indicates the probability distribution is good at predicting the sample."
   ]
  },
  {
   "cell_type": "code",
   "execution_count": 199,
   "metadata": {},
   "outputs": [],
   "source": [
    "import numpy as np\n",
    "from time import time\n",
    "import random\n",
    "import matplotlib.pyplot as plt\n",
    "%matplotlib inline\n",
    "\n",
    "train, test = author_tokens_df_w_features.randomSplit([9.0, 1.0], 446)"
   ]
  },
  {
   "cell_type": "code",
   "execution_count": null,
   "metadata": {
    "scrolled": true
   },
   "outputs": [],
   "source": [
    "def perplexity_vs_doc(lda, train, test, stage):\n",
    "    testPreplexity = np.zeros(stage)\n",
    "    computationTime = np.zeros(stage)\n",
    "    fracs = np.linspace(0.1, 1.0, stage)\n",
    "    num_repeat = 3\n",
    "    for j in range(num_repeat):\n",
    "        for i in range(stage):\n",
    "            corpus = train.sample(False, fracs[i], 10*j)\n",
    "            # Batch variational inference\n",
    "            t0 = time()\n",
    "            lda_model = lda.fit(corpus)\n",
    "            t1 = time()\n",
    "            computationTime[i] += (t1 - t0)/num_repeat\n",
    "            testPreplexity[i] += lda_model.logPerplexity(test)/num_repeat\n",
    "    return testPreplexity, computationTime\n",
    "\n",
    "# set the seeds to have the same inital clustering\n",
    "# batch LDA\n",
    "test_preplexity_em, computation_time_em = perplexity_vs_doc(LDA(k=10, maxIter=5, seed=123), \n",
    "                                                            train, test, 10)\n",
    "# online LDA\n",
    "# test_preplexity_online, computation_time_online = perplexity_vs_doc(LDA(k=10, maxIter=5, optimizer='online', seed=123), \n",
    "#                                                                     train, test, 10)"
   ]
  },
  {
   "cell_type": "code",
   "execution_count": 202,
   "metadata": {},
   "outputs": [
    {
     "data": {
      "image/png": "[encoded data removed]",
      "text/plain": [
       "<Figure size 432x288 with 1 Axes>"
      ]
     },
     "metadata": {
      "needs_background": "light"
     },
     "output_type": "display_data"
    }
   ],
   "source": [
    "plt.plot(test_preplexity_em, label = \"em\")\n",
    "# plt.plot(test_preplexity_online, label = \"online\")\n",
    "plt.xticks(np.arange(0, 10, 1), [str(i+1) for i in np.arange(0, 10, 1)])\n",
    "plt.xlabel(\"training data size *10%\")\n",
    "plt.ylabel(\"testing preplexity\")\n",
    "plt.legend()\n",
    "plt.show()"
   ]
  },
  {
   "cell_type": "markdown",
   "metadata": {
    "id": "8GIlHFm2IM1R"
   },
   "source": [
    "## B2. Calculate the topic density vector for each author and the cosine similarity ## "
   ]
  },
  {
   "cell_type": "code",
   "execution_count": 47,
   "metadata": {
    "id": "KhEkCGfm7NJx"
   },
   "outputs": [],
   "source": [
    "# your code\n",
    "def dot_prod(x,y):\n",
    "    x = np.array(x)\n",
    "    y = np.array(y)\n",
    "    return x.dot(y)\n",
    "\n",
    "# your code\n",
    "def cos_sim(x,y):\n",
    "    x = np.array(x)\n",
    "    y = np.array(y)\n",
    "    \n",
    "    norm_x = np.linalg.norm(x)\n",
    "    norm_y = np.linalg.norm(y)\n",
    "    \n",
    "    return x.dot(y) / (norm_x*norm_y)"
   ]
  },
  {
   "cell_type": "markdown",
   "metadata": {},
   "source": [
    ">**Note**: the implementation of the cosine similarity function is missing the square root over `norm_x`and `norm_y`. The results below are therefore not correct."
   ]
  },
  {
   "cell_type": "code",
   "execution_count": 48,
   "metadata": {},
   "outputs": [
    {
     "name": "stdout",
     "output_type": "stream",
     "text": [
      "+--------------------+--------------------+\n",
      "|              author|   topicDistribution|\n",
      "+--------------------+--------------------+\n",
      "| Ignas G. Niemegeers|[3.51900543513945...|\n",
      "|     Kees M. van Hee|[6.08347798926278...|\n",
      "|   Sjaak Brinkkemper|[2.19178045736207...|\n",
      "|Alistair G. Sutcl...|[2.24000989153387...|\n",
      "|   George S. Avrunin|[4.99214653833859...|\n",
      "|      Lori A. Clarke|[2.64666647249385...|\n",
      "|          Klaus Pohl|[2.63913948546808...|\n",
      "|       Pedro Antunes|[2.93425266317370...|\n",
      "|        Frank Vetere|[5.88873569226827...|\n",
      "|      Luciano Baresi|[2.64663231502957...|\n",
      "+--------------------+--------------------+\n",
      "only showing top 10 rows\n",
      "\n",
      "+-------------------+--------------------+-----------------+--------------------+\n",
      "|             author|   topicDistribution|           author|   topicDistribution|\n",
      "+-------------------+--------------------+-----------------+--------------------+\n",
      "|Ignas G. Niemegeers|[3.51900543513945...|  Kees M. van Hee|[6.08347798926278...|\n",
      "|Ignas G. Niemegeers|[3.51900543513945...|Sjaak Brinkkemper|[2.19178045736207...|\n",
      "|Ignas G. Niemegeers|[3.51900543513945...|   Lori A. Clarke|[2.64666647249385...|\n",
      "|Ignas G. Niemegeers|[3.51900543513945...|       Klaus Pohl|[2.63913948546808...|\n",
      "|Ignas G. Niemegeers|[3.51900543513945...|    Pedro Antunes|[2.93425266317370...|\n",
      "|Ignas G. Niemegeers|[3.51900543513945...|   Luciano Baresi|[2.64663231502957...|\n",
      "|Ignas G. Niemegeers|[3.51900543513945...|     Reiko Heckel|[2.00074330264794...|\n",
      "|Ignas G. Niemegeers|[3.51900543513945...|        Tao Zhang|[1.34453791529299...|\n",
      "|Ignas G. Niemegeers|[3.51900543513945...|          Ping Li|[1.87800296708888...|\n",
      "|Ignas G. Niemegeers|[3.51900543513945...|            Yi Li|[1.80778424606275...|\n",
      "+-------------------+--------------------+-----------------+--------------------+\n",
      "only showing top 10 rows\n",
      "\n"
     ]
    }
   ],
   "source": [
    "authors_dist = transformed.select(['author', 'topicDistribution'])\n",
    "authors_dist.show(10)\n",
    "\n",
    "# create a temporary view for SQL queries\n",
    "authors_dist.createOrReplaceTempView(\"authors_dist\")\n",
    "\n",
    "query = \"\"\"\n",
    "    SELECT *\n",
    "    FROM authors_dist a1\n",
    "    CROSS JOIN authors_dist a2\n",
    "    WHERE a1.author < a2.author\n",
    "    \"\"\"\n",
    "\n",
    "authors_pairs = spark.sql(query)\n",
    "authors_pairs.show(10)"
   ]
  },
  {
   "cell_type": "markdown",
   "metadata": {
    "id": "YcMjLVY1JXNG"
   },
   "source": [
    "## B3. Show the 10 most similar author pairs and comment on their similarity,"
   ]
  },
  {
   "cell_type": "code",
   "execution_count": 49,
   "metadata": {},
   "outputs": [
    {
     "data": {
      "text/plain": [
       "[('Ignas G. Niemegeers', 'Kees M. van Hee', 0.9999997013727754),\n",
       " ('Ignas G. Niemegeers', 'Sjaak Brinkkemper', 0.999999920568635),\n",
       " ('Ignas G. Niemegeers', 'Lori A. Clarke', 0.9999999656581098),\n",
       " ('Ignas G. Niemegeers', 'Klaus Pohl', 0.9999999650636611),\n",
       " ('Ignas G. Niemegeers', 'Pedro Antunes', 0.9999999845596361),\n",
       " ('Ignas G. Niemegeers', 'Luciano Baresi', 0.9999999656543556),\n",
       " ('Ignas G. Niemegeers', 'Reiko Heckel', 0.9999998960932283),\n",
       " ('Ignas G. Niemegeers', 'Tao Zhang', 0.9999997871165618),\n",
       " ('Ignas G. Niemegeers', 'Ping Li', 0.9999998786411788),\n",
       " ('Ignas G. Niemegeers', 'Yi Li', 0.9999998680476055)]"
      ]
     },
     "execution_count": 49,
     "metadata": {},
     "output_type": "execute_result"
    }
   ],
   "source": [
    "author_dist_rdd = authors_pairs.rdd.map(lambda row: (row[0], row[2], cos_sim(row[1], row[3]))) # .cache()\n",
    "\n",
    "# not sorted\n",
    "author_dist_rdd.take(10)"
   ]
  },
  {
   "cell_type": "code",
   "execution_count": null,
   "metadata": {},
   "outputs": [
    {
     "name": "stdout",
     "output_type": "stream",
     "text": [
      "CPU times: user 117 ms, sys: 12.6 ms, total: 130 ms\n",
      "Wall time: 12min 29s\n"
     ]
    },
    {
     "data": {
      "text/plain": [
       "[('Angelo Montanari', 'Jiang Li', 1.0000000000000002),\n",
       " ('Andreas Podelski', 'Jianhua Ma', 1.0000000000000002),\n",
       " ('Andreas Podelski', 'David Abramson', 1.0000000000000002),\n",
       " ('Kjetil Nrvg', 'Xi Li', 1.0000000000000002),\n",
       " ('Daniel Schwabe', 'Janne Heikkil', 1.0000000000000002),\n",
       " ('Omran A. Bukhres', 'William E. Weihl', 1.0000000000000002),\n",
       " ('Ramesh Govindan', 'Seog Park', 1.0000000000000002),\n",
       " ('Ernst-Rdiger Olderog', 'V. Richard Benjamins', 1.0000000000000002),\n",
       " ('Linpeng Huang', 'Ralf Schenkel', 1.0000000000000002),\n",
       " ('Allison Woodruff', 'Rahul Garg', 1.0000000000000002)]"
      ]
     },
     "execution_count": 46,
     "metadata": {},
     "output_type": "execute_result"
    }
   ],
   "source": [
    "%%time\n",
    "# sorted\n",
    "author_dist_rdd.takeOrdered(10, key = lambda r: -r[2])"
   ]
  },
  {
   "cell_type": "markdown",
   "metadata": {},
   "source": [
    "The most similar authors have a cosine similarity that is larger than 1. As already mentioned, this is due to the incorrect implementation of the cosine similarity function. Actually, even in this case it should not be possible but it is most likely a rounding error that occurs due to the distributed computations that Spark performs. Most authors have a very high cosine similarity, most likely due to the mis-specified function.\n",
    "\n",
    "Generally speaking, it can be expected that the most similar authors publish in the same field (e.g. mechanical engineering or computer science). The reason is quite obvious: those authors use a similar vocabulary which may be substantially different from authors in other fields.\n",
    "\n",
    "In addition, it can be expected that authors who have common publications have a particularly high cosine similarity. This is true not only for pairs of authors with a large number of joint publications but also (perhaps in particular) for pairs of authors with only few publications but of which they have published all or most jointly. In the extreme case, two authors who have only one joint publication and no others would have a cosine similarity of 1. To check whether this is indeed the case for some of the authors listed above, one would have to perform the query that was part of assignment 1."
   ]
  }
 ],
 "metadata": {
  "colab": {
   "collapsed_sections": [],
   "name": "hw_dblp.ipynb",
   "provenance": []
  },
  "kernelspec": {
   "display_name": "PySpark",
   "language": "python",
   "name": "pyspark"
  },
  "language_info": {
   "codemirror_mode": {
    "name": "ipython",
    "version": 3
   },
   "file_extension": ".py",
   "mimetype": "text/x-python",
   "name": "python",
   "nbconvert_exporter": "python",
   "pygments_lexer": "ipython3",
   "version": "3.6.13"
  },
  "nteract": {
   "version": "0.28.0"
  }
 },
 "nbformat": 4,
 "nbformat_minor": 4
}
